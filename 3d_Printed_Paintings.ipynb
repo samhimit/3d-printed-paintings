{
  "nbformat": 4,
  "nbformat_minor": 0,
  "metadata": {
    "colab": {
      "provenance": [],
      "collapsed_sections": [],
      "include_colab_link": true
    },
    "kernelspec": {
      "name": "python3",
      "display_name": "Python 3"
    },
    "language_info": {
      "name": "python"
    }
  },
  "cells": [
    {
      "cell_type": "markdown",
      "metadata": {
        "id": "view-in-github",
        "colab_type": "text"
      },
      "source": [
        "<a href=\"https://colab.research.google.com/github/samhimit/3d-printed-paintings/blob/main/3d_Printed_Paintings.ipynb\" target=\"_parent\"><img src=\"https://colab.research.google.com/assets/colab-badge.svg\" alt=\"Open In Colab\"/></a>"
      ]
    },
    {
      "cell_type": "markdown",
      "metadata": {
        "id": "_wjL85rEJls7"
      },
      "source": [
        "###3d Printed Paintings"
      ]
    },
    {
      "cell_type": "code",
      "metadata": {
        "colab": {
          "base_uri": "https://localhost:8080/"
        },
        "id": "oiF5VpApEMqw",
        "outputId": "fef71df0-8a47-4ba7-844d-5edf892aefe7"
      },
      "source": [
        "#import numpy-stl into collab\n",
        "!pip install numpy-stl\n"
      ],
      "execution_count": 1,
      "outputs": [
        {
          "output_type": "stream",
          "name": "stdout",
          "text": [
            "Looking in indexes: https://pypi.org/simple, https://us-python.pkg.dev/colab-wheels/public/simple/\n",
            "Collecting numpy-stl\n",
            "  Downloading numpy_stl-2.17.1-py3-none-any.whl (18 kB)\n",
            "Requirement already satisfied: numpy in /usr/local/lib/python3.7/dist-packages (from numpy-stl) (1.21.6)\n",
            "Requirement already satisfied: python-utils>=1.6.2 in /usr/local/lib/python3.7/dist-packages (from numpy-stl) (3.3.3)\n",
            "Installing collected packages: numpy-stl\n",
            "Successfully installed numpy-stl-2.17.1\n"
          ]
        }
      ]
    },
    {
      "cell_type": "code",
      "metadata": {
        "colab": {
          "base_uri": "https://localhost:8080/",
          "height": 393
        },
        "id": "Z0Y-y4SOD_G7",
        "outputId": "0512afa9-1ac5-4452-ed4d-bbec8f157951"
      },
      "source": [
        "import numpy as np\n",
        "from stl import mesh\n",
        "from numpy.random import default_rng\n",
        "import PIL\n",
        "from PIL import Image, ImageOps\n",
        "import matplotlib.pyplot as plt\n",
        "from numpy import asarray\n",
        "\n",
        "# Open the uploaded file to convert, place the picture you want to convert in this location\n",
        "img = PIL.Image.open(\"/home/mypaint.png\")\n",
        "\n",
        "# Start by converting the image into grayscale\n",
        "gray_img = img.convert(\"L\")\n",
        "# Inverting the image can sometimes lead to better conversion results, especially when on a dark background\n",
        "# Gray_img = ImageOps.invert(gray_img)\n",
        "gray_img = gray_img.transpose(Image.FLIP_LEFT_RIGHT)\n",
        "# Adding a white border to the image allows for a smooth transition to the container\n",
        "gray_img = ImageOps.expand(gray_img,border=5,fill='white')\n",
        "\n",
        "\n",
        "\n",
        "data = asarray(gray_img)\n",
        "width = gray_img.width\n",
        "height = gray_img.height\n",
        "# Conv dictates the \"strength\" of how much the differences in color affect height, could also be referred to as contrast\n",
        "conv = .50\n",
        "# Scaler is final transformation that stretches or flattens the entire image\n",
        "scaler = .5\n",
        "# Creates an array filled with x and y coordinates and the grayscale value located at that pixel\n",
        "# To create a more detailed and readable picture, we create 4 points for every pixel, allowing each pixel to become a face\n",
        "\n",
        "lst = [] \n",
        "for i in range(height):\n",
        "  # For loop here creates \"two\" rows of vertices for every row of pixels, stacking the second on top of the next row\n",
        "  for k in range(2):\n",
        "    for j in range(width):\n",
        "     y = (256-data[i][j]*conv)*scaler\n",
        "     x = [j,i+k,y]\n",
        "     lst.append(x)\n",
        "     # Stacks a vertice on top of the next location\n",
        "     x = [j+1,i+k,y]\n",
        "     lst.append(x)\n",
        "\n",
        "vertices = np.array(lst)\n",
        "# Printing vertice list to console\n",
        "print(vertices)\n",
        "# Showing processed image for direct comparision\n",
        "plt.imshow(gray_img, cmap='gray')\n",
        "plt.savefig(\"gray_pic.jpg\")\n",
        "\n",
        "\n",
        "\n",
        "\n",
        "# Defining vertices of the container\n",
        "containerVertices = np.array([\\\n",
        "    [0, 0, 0],\n",
        "    [0, 0, (256-data[0][0]*conv)*scaler],\n",
        "    [0, height, 0],\n",
        "    [0, height, (256-data[0][0]*conv)*scaler],\n",
        "    [width, 0, 0],\n",
        "    [width, 0, (256-data[0][0]*conv)*scaler],\n",
        "    [width, height, 0],\n",
        "    [width, height, (256-data[0][0]*conv)*scaler]])\n",
        "# Defining faces of the container\n",
        "containerFaces = np.array([\\\n",
        "    [0, 2, 4],\n",
        "    [6, 4, 2],\n",
        "    [1, 2, 0],\n",
        "    [3, 2, 1],\n",
        "    [4, 1, 0],\n",
        "    [1, 4, 5],\n",
        "    [5, 4, 6],\n",
        "    [5, 6, 7],\n",
        "    [2, 3, 6],\n",
        "    [6, 3, 7]])\n",
        "\n",
        "# x and y of our vertices of the image, we created 4 vertices for every pixel\n",
        "x = width*2\n",
        "y = height*2\n",
        "\n",
        "pointsnum = x*y\n",
        "size = x*y-1\n",
        "facenum = (x-1)*(y-1)*2\n",
        "\n",
        "faces = np.zeros((facenum,3),int)\n",
        "# Go through and definte all the faces of the image, simple solution\n",
        "location = 0\n",
        "for i in range(pointsnum):\n",
        "    # This for loop defines all triangles where the right angle is in the top left\n",
        "    if (i + 1) % x != 0 and i+x <= size: # Check to see it doesn't go to a new line or out of bounds\n",
        "      faces[location,0] = i # Always going to be the start\n",
        "      faces[location,1] = i+1 # Use index one to the right\n",
        "      faces[location,2] = i+x # Needs to be the vertice below, which is the length of the array away, so here it is 3\n",
        "      location += 1\n",
        "    # This for loop defines all triangles where the right angle is in the bottom right\n",
        "    if i%x != 0 and i-x >= 0: #Check if out of bounds or different line\n",
        "      faces[location,0] = i # Same as above\n",
        "      faces[location,1] = i-1 # Use the index one to the left\n",
        "      faces[location,2] = i-x # Same logic as above but in reverse, to find the vertice above\n",
        "      location += 1\n",
        "# Create the meshes\n",
        "containerMesh = mesh.Mesh(np.zeros(containerFaces.shape[0], dtype=mesh.Mesh.dtype))\n",
        "for i, f in enumerate(containerFaces):\n",
        "    for j in range(3):\n",
        "        containerMesh.vectors[i][j] = containerVertices[f[j],:]\n",
        "imageMesh = mesh.Mesh(np.zeros(faces.shape[0], dtype=mesh.Mesh.dtype))\n",
        "for i, f in enumerate(faces):\n",
        "    for j in range(3):\n",
        "        imageMesh.vectors[i][j] = vertices[f[j],:]\n",
        "# Combine the container to the image\n",
        "combined = mesh.Mesh(np.concatenate([imageMesh.data, containerMesh.data]))\n",
        "# Save the mesh to file \"model.stl\"\n",
        "# Found under content tab\n",
        "combined.save('model.stl')"
      ],
      "execution_count": 6,
      "outputs": [
        {
          "output_type": "stream",
          "name": "stdout",
          "text": [
            "[[  0.     0.    64.25]\n",
            " [  1.     0.    64.25]\n",
            " [  1.     0.    64.25]\n",
            " ...\n",
            " [105.   106.    64.25]\n",
            " [105.   106.    64.25]\n",
            " [106.   106.    64.25]]\n"
          ]
        },
        {
          "output_type": "display_data",
          "data": {
            "text/plain": [
              "<Figure size 432x288 with 1 Axes>"
            ],
            "image/png": "[encoded data removed]"
          },
          "metadata": {
            "needs_background": "light"
          }
        }
      ]
    }
  ]
}